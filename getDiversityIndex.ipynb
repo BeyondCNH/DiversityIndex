{
 "cells": [
  {
   "cell_type": "markdown",
   "metadata": {
    "slideshow": {
     "slide_type": "slide"
    }
   },
   "source": [
    "# Protein Diversity Index Calculation\n",
    "<br>\n",
    "This is the python code that calculates the diversity index (DI) of the proteins based on the secondary structure prediction results.\n",
    "\n",
    "$DI=(P(E)^2+P(H)^2+P(C)^2)^{-1}$\n"
   ]
  },
  {
   "cell_type": "code",
   "execution_count": 1,
   "metadata": {
    "slideshow": {
     "slide_type": "slide"
    }
   },
   "outputs": [],
   "source": [
    "import numpy as np\n",
    "import os, glob\n",
    "import matplotlib\n",
    "import matplotlib.pyplot as plt"
   ]
  },
  {
   "cell_type": "code",
   "execution_count": 2,
   "metadata": {
    "slideshow": {
     "slide_type": "fragment"
    }
   },
   "outputs": [
    {
     "name": "stdout",
     "output_type": "stream",
     "text": [
      "1CEE.fasta.spd3 1ZK9.fasta.spd3 2QKE.fasta.spd3 3V0T.fasta.spd3 4W50.fasta.spd3\r\n",
      "1DZL.fasta.spd3 2A73.fasta.spd3 2QQJ.fasta.spd3 3VO9.fasta.spd3 4WSG.fasta.spd3\r\n",
      "1EBO.fasta.spd3 2AXZ.fasta.spd3 2UY7.fasta.spd3 3VPA.fasta.spd3 4XWS.fasta.spd3\r\n",
      "1FZP.fasta.spd3 2BZY.fasta.spd3 2VFX.fasta.spd3 3ZWG.fasta.spd3 4Y0M.fasta.spd3\r\n",
      "1G2C.fasta.spd3 2C1U.fasta.spd3 2WCD.fasta.spd3 3ZXG.fasta.spd3 4YDQ.fasta.spd3\r\n",
      "1H38.fasta.spd3 2C1V.fasta.spd3 2Z9O.fasta.spd3 4A5W.fasta.spd3 4YHD.fasta.spd3\r\n",
      "1HTM.fasta.spd3 2CE7.fasta.spd3 3EJH.fasta.spd3 4AAL.fasta.spd3 4YYP.fasta.spd3\r\n",
      "1IYT.fasta.spd3 2FRH.fasta.spd3 3EWS.fasta.spd3 4AAN.fasta.spd3 4ZT0.fasta.spd3\r\n",
      "1J8I.fasta.spd3 2GED.fasta.spd3 3G0H.fasta.spd3 4AE0.fasta.spd3 5AOE.fasta.spd3\r\n",
      "1JFK.fasta.spd3 2GRM.fasta.spd3 3GMH.fasta.spd3 4B3O.fasta.spd3 5B3Z.fasta.spd3\r\n",
      "1JTI.fasta.spd3 2H44.fasta.spd3 3HDE.fasta.spd3 4CMQ.fasta.spd3 5BMY.fasta.spd3\r\n",
      "1K0N.fasta.spd3 2HDM.fasta.spd3 3HDF.fasta.spd3 4DXR.fasta.spd3 5C1V.fasta.spd3\r\n",
      "1K86.fasta.spd3 2JMR.fasta.spd3 3IFA.fasta.spd3 4DXT.fasta.spd3 5C3I.fasta.spd3\r\n",
      "1KCT.fasta.spd3 2K0Q.fasta.spd3 3J7V.fasta.spd3 4GQC.fasta.spd3 5C6B.fasta.spd3\r\n",
      "1KKQ.fasta.spd3 2K42.fasta.spd3 3J7W.fasta.spd3 4HDD.fasta.spd3 5EC5.fasta.spd3\r\n",
      "1MBY.fasta.spd3 2KKW.fasta.spd3 3J97.fasta.spd3 4HLS.fasta.spd3 5EJB.fasta.spd3\r\n",
      "1MIQ.fasta.spd3 2KTM.fasta.spd3 3J9C.fasta.spd3 4J3O.fasta.spd3 5ET5.fasta.spd3\r\n",
      "1MNM.fasta.spd3 2LCL.fasta.spd3 3J9E.fasta.spd3 4JPH.fasta.spd3 5F3K.fasta.spd3\r\n",
      "1NOC.fasta.spd3 2LE3.fasta.spd3 3JV6.fasta.spd3 4M4R.fasta.spd3 5F5R.fasta.spd3\r\n",
      "1NQD.fasta.spd3 2LEJ.fasta.spd3 3KDS.fasta.spd3 4N9W.fasta.spd3 5FHC.fasta.spd3\r\n",
      "1NQJ.fasta.spd3 2LEL.fasta.spd3 3KMZ.fasta.spd3 4NC9.fasta.spd3 5FLU.fasta.spd3\r\n",
      "1NRJ.fasta.spd3 2LEP.fasta.spd3 3KUY.fasta.spd3 4O01.fasta.spd3 5HK5.fasta.spd3\r\n",
      "1OVA.fasta.spd3 2LHC.fasta.spd3 3L5N.fasta.spd3 4O0P.fasta.spd3 5HMG.fasta.spd3\r\n",
      "1QB3.fasta.spd3 2LHD.fasta.spd3 3L9Q.fasta.spd3 4OV8.fasta.spd3 5I2M.fasta.spd3\r\n",
      "1QLN.fasta.spd3 2LQW.fasta.spd3 3LOW.fasta.spd3 4OW6.fasta.spd3 5I2S.fasta.spd3\r\n",
      "1QOM.fasta.spd3 2LSH.fasta.spd3 3LQC.fasta.spd3 4PHQ.fasta.spd3 5INE.fasta.spd3\r\n",
      "1QS8.fasta.spd3 2LV1.fasta.spd3 3M1B.fasta.spd3 4PMK.fasta.spd3 5JYT.fasta.spd3\r\n",
      "1REP.fasta.spd3 2MWF.fasta.spd3 3M7P.fasta.spd3 4PYI.fasta.spd3 5JZH.fasta.spd3\r\n",
      "1RK4.fasta.spd3 2MZ7.fasta.spd3 3MEE.fasta.spd3 4PYJ.fasta.spd3 5JZT.fasta.spd3\r\n",
      "1RKP.fasta.spd3 2N0A.fasta.spd3 3MKO.fasta.spd3 4Q79.fasta.spd3 5KEQ.fasta.spd3\r\n",
      "1S5P.fasta.spd3 2N19.fasta.spd3 3NJQ.fasta.spd3 4QDS.fasta.spd3 5L35.fasta.spd3\r\n",
      "1SVF.fasta.spd3 2N4O.fasta.spd3 3O44.fasta.spd3 4QHF.fasta.spd3 5LJ3.fasta.spd3\r\n",
      "1UXM.fasta.spd3 2N54.fasta.spd3 3OD5.fasta.spd3 4QHH.fasta.spd3 5LY6.fasta.spd3\r\n",
      "1WP8.fasta.spd3 2NAM.fasta.spd3 3Q8F.fasta.spd3 4RMB.fasta.spd3 5SUZ.fasta.spd3\r\n",
      "1WYY.fasta.spd3 2NAO.fasta.spd3 3QY2.fasta.spd3 4RR2.fasta.spd3 5WRG.fasta.spd3\r\n",
      "1X0G.fasta.spd3 2NNT.fasta.spd3 3T1P.fasta.spd3 4RWN.fasta.spd3 7AHL.fasta.spd3\r\n",
      "1XEZ.fasta.spd3 2NXQ.fasta.spd3 3T5O.fasta.spd3 4RWQ.fasta.spd3\r\n",
      "1XJT.fasta.spd3 2OUG.fasta.spd3 3TKA.fasta.spd3 4TSY.fasta.spd3\r\n",
      "1XJU.fasta.spd3 2P3V.fasta.spd3 3TP2.fasta.spd3 4TWA.fasta.spd3\r\n",
      "1XNT.fasta.spd3 2PBK.fasta.spd3 3UYI.fasta.spd3 4UV2.fasta.spd3\r\n"
     ]
    }
   ],
   "source": [
    "os.chdir('/Users/chennh/Project/Morphing/result/SPIDER2_uniref90/meta')\n",
    "!ls *.spd3"
   ]
  },
  {
   "cell_type": "code",
   "execution_count": 3,
   "metadata": {
    "slideshow": {
     "slide_type": "slide"
    }
   },
   "outputs": [],
   "source": [
    "def getRawDI(ssmethod='SPIDER2'):\n",
    "    '''\n",
    "    Get the Raw diversity index from the secondary structure prediction result\n",
    "    Parameter\n",
    "    ---------\n",
    "    ssmethod: str\n",
    "        name of the secondary structure prediction method, works for 4 methods,\n",
    "        namely SPIDER2, SPIDER3, Porter5, and Psipred\n",
    "    \n",
    "    Function will write the files naming as <pdbID>_di.txt\n",
    "    '''\n",
    "    if ssmethod.lower() == 'spider2':\n",
    "        suffix = '.spd3'\n",
    "        ss_order = 'hbc'\n",
    "    elif ssmethod.lower() == 'spider3':\n",
    "        suffix = '.spd33'\n",
    "        ss_order = 'hbc'\n",
    "    elif ssmethod.lower() == 'porter5':\n",
    "        suffix = '.ss3'\n",
    "        ss_order = 'hbc'\n",
    "    elif ssmethod.lower() == 'psipred':\n",
    "        suffix = '.ss2'\n",
    "        ss_order = 'chb'\n",
    "    \n",
    "    path = os.getcwd()\n",
    "    for file in glob.glob('*'+suffix):\n",
    "        pdbname = file.split('.')[0]\n",
    "        rn = []; h = []; b = []; c = []\n",
    "        with open(file, 'r') as fin:\n",
    "            readline = False\n",
    "            for line in fin:\n",
    "                line = line.strip()\n",
    "                if line == '':\n",
    "                    continue\n",
    "                if line[0].isdigit():\n",
    "                    readline = True\n",
    "                if readline:\n",
    "                    ls = line.split()\n",
    "                    rn.append(ls[0])\n",
    "                    c.append(ls[ss_order.find('c')-3])\n",
    "                    h.append(ls[ss_order.find('h')-3])\n",
    "                    b.append(ls[ss_order.find('b')-3])\n",
    "        c = np.array(c, dtype=float); h = np.array(h, dtype=float); b = np.array(b, dtype=float)\n",
    "        x = 1/(np.square(c) + np.square(h) + np.square(b))\n",
    "        with open('%s_di.txt'%(pdbname), 'w') as fout:\n",
    "            for ind, val in enumerate(x):\n",
    "                fout.write('%d  %.4f\\n'%(ind+1,val))"
   ]
  },
  {
   "cell_type": "code",
   "execution_count": 4,
   "metadata": {
    "slideshow": {
     "slide_type": "fragment"
    }
   },
   "outputs": [
    {
     "name": "stdout",
     "output_type": "stream",
     "text": [
      "1CEE_di.txt 1WP8_di.txt 2LV1_di.txt 3KDS_di.txt 4DXT_di.txt 4YHD_di.txt\r\n",
      "1DZL_di.txt 1WYY_di.txt 2MWF_di.txt 3KMZ_di.txt 4GQC_di.txt 4YYP_di.txt\r\n",
      "1EBO_di.txt 1X0G_di.txt 2MZ7_di.txt 3KUY_di.txt 4HDD_di.txt 4ZT0_di.txt\r\n",
      "1FZP_di.txt 1XEZ_di.txt 2N0A_di.txt 3L5N_di.txt 4HLS_di.txt 5AOE_di.txt\r\n",
      "1G2C_di.txt 1XJT_di.txt 2N19_di.txt 3L9Q_di.txt 4J3O_di.txt 5B3Z_di.txt\r\n",
      "1H38_di.txt 1XJU_di.txt 2N4O_di.txt 3LOW_di.txt 4JPH_di.txt 5BMY_di.txt\r\n",
      "1HTM_di.txt 1XNT_di.txt 2N54_di.txt 3LQC_di.txt 4M4R_di.txt 5C1V_di.txt\r\n",
      "1IYT_di.txt 1ZK9_di.txt 2NAM_di.txt 3M1B_di.txt 4N9W_di.txt 5C3I_di.txt\r\n",
      "1J8I_di.txt 2A73_di.txt 2NAO_di.txt 3M7P_di.txt 4NC9_di.txt 5C6B_di.txt\r\n",
      "1JFK_di.txt 2AXZ_di.txt 2NNT_di.txt 3MEE_di.txt 4O01_di.txt 5EC5_di.txt\r\n",
      "1JTI_di.txt 2BZY_di.txt 2NXQ_di.txt 3MKO_di.txt 4O0P_di.txt 5EJB_di.txt\r\n",
      "1K0N_di.txt 2C1U_di.txt 2OUG_di.txt 3NJQ_di.txt 4OV8_di.txt 5ET5_di.txt\r\n",
      "1K86_di.txt 2C1V_di.txt 2P3V_di.txt 3O44_di.txt 4OW6_di.txt 5F3K_di.txt\r\n",
      "1KCT_di.txt 2CE7_di.txt 2PBK_di.txt 3OD5_di.txt 4PHQ_di.txt 5F5R_di.txt\r\n",
      "1KKQ_di.txt 2FRH_di.txt 2QKE_di.txt 3Q8F_di.txt 4PMK_di.txt 5FHC_di.txt\r\n",
      "1MBY_di.txt 2GED_di.txt 2QQJ_di.txt 3QY2_di.txt 4PYI_di.txt 5FLU_di.txt\r\n",
      "1MIQ_di.txt 2GRM_di.txt 2UY7_di.txt 3T1P_di.txt 4PYJ_di.txt 5HK5_di.txt\r\n",
      "1MNM_di.txt 2H44_di.txt 2VFX_di.txt 3T5O_di.txt 4Q79_di.txt 5HMG_di.txt\r\n",
      "1NOC_di.txt 2HDM_di.txt 2WCD_di.txt 3TKA_di.txt 4QDS_di.txt 5I2M_di.txt\r\n",
      "1NQD_di.txt 2JMR_di.txt 2Z9O_di.txt 3TP2_di.txt 4QHF_di.txt 5I2S_di.txt\r\n",
      "1NQJ_di.txt 2K0Q_di.txt 3EJH_di.txt 3UYI_di.txt 4QHH_di.txt 5INE_di.txt\r\n",
      "1NRJ_di.txt 2K42_di.txt 3EWS_di.txt 3V0T_di.txt 4RMB_di.txt 5JYT_di.txt\r\n",
      "1OVA_di.txt 2KKW_di.txt 3G0H_di.txt 3VO9_di.txt 4RR2_di.txt 5JZH_di.txt\r\n",
      "1QB3_di.txt 2KTM_di.txt 3GMH_di.txt 3VPA_di.txt 4RWN_di.txt 5JZT_di.txt\r\n",
      "1QLN_di.txt 2LCL_di.txt 3HDE_di.txt 3ZWG_di.txt 4RWQ_di.txt 5KEQ_di.txt\r\n",
      "1QOM_di.txt 2LE3_di.txt 3HDF_di.txt 3ZXG_di.txt 4TSY_di.txt 5L35_di.txt\r\n",
      "1QS8_di.txt 2LEJ_di.txt 3IFA_di.txt 4A5W_di.txt 4TWA_di.txt 5LJ3_di.txt\r\n",
      "1REP_di.txt 2LEL_di.txt 3J7V_di.txt 4AAL_di.txt 4UV2_di.txt 5LY6_di.txt\r\n",
      "1RK4_di.txt 2LEP_di.txt 3J7W_di.txt 4AAN_di.txt 4W50_di.txt 5SUZ_di.txt\r\n",
      "1RKP_di.txt 2LHC_di.txt 3J97_di.txt 4AE0_di.txt 4WSG_di.txt 5WRG_di.txt\r\n",
      "1S5P_di.txt 2LHD_di.txt 3J9C_di.txt 4B3O_di.txt 4XWS_di.txt 7AHL_di.txt\r\n",
      "1SVF_di.txt 2LQW_di.txt 3J9E_di.txt 4CMQ_di.txt 4Y0M_di.txt\r\n",
      "1UXM_di.txt 2LSH_di.txt 3JV6_di.txt 4DXR_di.txt 4YDQ_di.txt\r\n"
     ]
    }
   ],
   "source": [
    "!ls *_di.txt"
   ]
  },
  {
   "cell_type": "markdown",
   "metadata": {
    "slideshow": {
     "slide_type": "slide"
    }
   },
   "source": [
    "Get the DI of the proteins based on CR and $DI_{thre}$\n",
    "\n",
    "$max(\\frac{1}{CR}\\sum_{j=0}^{j<CR}DI_{i+j})_{i=1}^{L-CR+1}>=DI_{thre}$"
   ]
  },
  {
   "cell_type": "code",
   "execution_count": 5,
   "metadata": {
    "slideshow": {
     "slide_type": "fragment"
    }
   },
   "outputs": [],
   "source": [
    "def getProteinDI(CRs=np.arange(6,16,1), cutoff=5):\n",
    "    '''\n",
    "    Get the proteins' DI for their own raw DI.\n",
    "    Parameter\n",
    "    ---------\n",
    "    CRs: np.array or list\n",
    "        The list of the number of consecutive residues.\n",
    "    cutoff: int\n",
    "        The number of residues skipped in each terminals.\n",
    "    \n",
    "    Return\n",
    "    ------\n",
    "    proteinDI: np.array((# of CRs, # of proteins))\n",
    "        The proteins' DI based on the corresponding CR.\n",
    "    '''\n",
    "    N = len(glob.glob('*_di.txt'))\n",
    "    print('# of sequences in the dataset:', N)\n",
    "    proteinDI = np.zeros((len(CRs), N))\n",
    "    for indCR, CR in enumerate(CRs):\n",
    "        for indfile, file in enumerate(glob.glob('*_di.txt')):\n",
    "            di = []\n",
    "            with open(file) as fin:\n",
    "                for line in fin:\n",
    "                    line = line.strip()\n",
    "                    ls = line.split()\n",
    "                    di.append(float(ls[-1]))\n",
    "            di = np.array(di)\n",
    "            loop = len(di) - CR - cutoff\n",
    "            pdi = []\n",
    "            for k in range(cutoff, loop):\n",
    "                tmp = np.mean(di[k:k+CR])\n",
    "                pdi.append(tmp)\n",
    "            pdi = np.array(pdi)\n",
    "            proteinDI[indCR, indfile] = np.max(pdi)\n",
    "    return proteinDI"
   ]
  },
  {
   "cell_type": "code",
   "execution_count": 6,
   "metadata": {
    "slideshow": {
     "slide_type": "fragment"
    }
   },
   "outputs": [],
   "source": [
    "def countMeta(proteinDI, DI_thres=np.arange(1.4, 2.6, 0.05)):\n",
    "    '''\n",
    "    Predict the number of metamorphic proteins in the dataset based on the defined DI_thres\n",
    "    Parameter\n",
    "    ---------\n",
    "    proteinDI: np.array((# of CRs, # of proteins))\n",
    "        The proteins' DI based on the corresponding CR.\n",
    "    DI_thres: np.array or list\n",
    "        The list of the DI thresholds.\n",
    "    '''\n",
    "    meta_count = np.zeros((len(proteinDI),len(DI_thres)))\n",
    "    for indDI, DIs in enumerate(proteinDI):\n",
    "        for indh, hval in enumerate(DI_thres):\n",
    "            count = np.sum(DIs>=hval)\n",
    "            meta_count[indDI, indh] = count\n",
    "            \n",
    "    return meta_count\n",
    "        "
   ]
  },
  {
   "cell_type": "code",
   "execution_count": 7,
   "metadata": {
    "slideshow": {
     "slide_type": "slide"
    }
   },
   "outputs": [
    {
     "name": "stdout",
     "output_type": "stream",
     "text": [
      "# of sequences in the dataset: 196\n",
      "# of sequences in the dataset: 149\n"
     ]
    }
   ],
   "source": [
    "# for metamorphic dataset\n",
    "os.chdir('/Users/chennh/Project/Morphing/result/SPIDER2_uniref90/meta')\n",
    "getRawDI('Spider2')\n",
    "Nmeta = len(glob.glob('*_di.txt'))\n",
    "pDI = getProteinDI()\n",
    "TP = countMeta(pDI)\n",
    "FN = Nmeta - TP\n",
    "\n",
    "# for monomorphic dataset\n",
    "os.chdir('/Users/chennh/Project/Morphing/result/SPIDER2_uniref90/nonmeta')\n",
    "getRawDI('Spider2')\n",
    "Nmono = len(glob.glob('*_di.txt'))\n",
    "pDI = getProteinDI()\n",
    "FP = countMeta(pDI)\n",
    "TN = Nmono - FP"
   ]
  },
  {
   "cell_type": "code",
   "execution_count": 8,
   "metadata": {
    "slideshow": {
     "slide_type": "fragment"
    }
   },
   "outputs": [
    {
     "data": {
      "text/plain": [
       "array([[196., 192., 192., 191., 191., 190., 183., 180., 176., 173., 172.,\n",
       "        172., 168., 162., 149., 144., 135., 132., 129., 118., 106.,  96.,\n",
       "         88.,  71.,  57.],\n",
       "       [195., 191., 191., 191., 189., 184., 183., 176., 173., 172., 171.,\n",
       "        165., 161., 154., 141., 136., 134., 127., 118., 111.,  95.,  85.,\n",
       "         66.,  57.,  45.],\n",
       "       [192., 191., 191., 190., 186., 183., 178., 175., 174., 170., 167.,\n",
       "        162., 150., 143., 137., 129., 124., 118., 107.,  99.,  82.,  65.,\n",
       "         55.,  45.,  38.],\n",
       "       [193., 193., 191., 188., 185., 179., 175., 172., 172., 168., 164.,\n",
       "        152., 145., 138., 131., 127., 116., 109.,  96.,  85.,  67.,  56.,\n",
       "         45.,  34.,  27.],\n",
       "       [193., 191., 191., 186., 180., 177., 174., 173., 171., 165., 161.,\n",
       "        149., 142., 134., 129., 119., 113., 102.,  92.,  76.,  55.,  45.,\n",
       "         36.,  27.,  20.],\n",
       "       [191., 191., 187., 182., 180., 176., 173., 172., 168., 163., 154.,\n",
       "        144., 137., 134., 122., 114., 104.,  91.,  78.,  58.,  48.,  40.,\n",
       "         28.,  24.,  15.],\n",
       "       [191., 190., 187., 181., 179., 174., 173., 172., 165., 159., 149.,\n",
       "        142., 135., 128., 118., 111.,  99.,  82.,  64.,  53.,  40.,  32.,\n",
       "         25.,  21.,  13.],\n",
       "       [191., 189., 185., 182., 176., 174., 173., 170., 164., 155., 144.,\n",
       "        138., 132., 123., 114., 105.,  92.,  71.,  57.,  42.,  33.,  27.,\n",
       "         22.,  14.,   5.],\n",
       "       [191., 186., 183., 177., 175., 174., 170., 167., 158., 150., 142.,\n",
       "        136., 129., 117., 110.,  97.,  76.,  61.,  49.,  37.,  28.,  23.,\n",
       "         18.,   8.,   1.],\n",
       "       [191., 187., 182., 176., 175., 173., 170., 166., 156., 149., 139.,\n",
       "        134., 124., 114., 105.,  86.,  67.,  53.,  39.,  34.,  23.,  17.,\n",
       "         11.,   3.,   1.]])"
      ]
     },
     "execution_count": 8,
     "metadata": {},
     "output_type": "execute_result"
    }
   ],
   "source": [
    "TP"
   ]
  },
  {
   "cell_type": "code",
   "execution_count": 9,
   "metadata": {
    "slideshow": {
     "slide_type": "slide"
    }
   },
   "outputs": [
    {
     "name": "stdout",
     "output_type": "stream",
     "text": [
      "0.391532746347834\n"
     ]
    }
   ],
   "source": [
    "# calculate the Matthew Correlation Coefficient\n",
    "MCC = (TP*TN-FP*FN) / np.sqrt((TP+FP)*(TP+FN)*(TN+FP)*(TN+FN))\n",
    "MCC = np.nan_to_num(MCC)\n",
    "ind = np.argmax(MCC)\n",
    "print(np.max(MCC))"
   ]
  },
  {
   "cell_type": "code",
   "execution_count": 10,
   "metadata": {
    "slideshow": {
     "slide_type": "slide"
    }
   },
   "outputs": [
    {
     "data": {
      "image/png": "[encoded data removed]",
      "text/plain": [
       "<Figure size 432x432 with 2 Axes>"
      ]
     },
     "metadata": {},
     "output_type": "display_data"
    }
   ],
   "source": [
    "# plot the MCC\n",
    "fig, ax = plt.subplots(1)\n",
    "fig.set_size_inches(6,6)\n",
    "ax.set_xticks([-6,1,7,13,19])\n",
    "ax.set_xticklabels([1.2, 1.40, 1.65, 1.90, 2.15, 2.40], fontsize=12)\n",
    "ax.set_yticks([-2,0,2,4,6,8])\n",
    "ax.set_yticklabels([4,6,8,10,12,14], fontsize=12)\n",
    "ax.set_xlabel('DI(thre)', fontsize=15)\n",
    "ax.set_ylabel('Number of CR', fontsize=15)\n",
    "cmat = ax.matshow(MCC, cmap=plt.cm.bwr, vmin=0, vmax=0.42)\n",
    "cbar = fig.colorbar(cmat, ticks=[0, 0.21, 0.42], orientation='horizontal')\n",
    "plt.tight_layout()\n",
    "plt.show()"
   ]
  }
 ],
 "metadata": {
  "celltoolbar": "Slideshow",
  "kernelspec": {
   "display_name": "Python 3",
   "language": "python",
   "name": "python3"
  },
  "language_info": {
   "codemirror_mode": {
    "name": "ipython",
    "version": 3
   },
   "file_extension": ".py",
   "mimetype": "text/x-python",
   "name": "python",
   "nbconvert_exporter": "python",
   "pygments_lexer": "ipython3",
   "version": "3.6.5"
  }
 },
 "nbformat": 4,
 "nbformat_minor": 2
}
